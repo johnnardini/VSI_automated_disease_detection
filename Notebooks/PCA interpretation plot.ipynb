{
 "cells": [
  {
   "cell_type": "code",
   "execution_count": 14,
   "metadata": {},
   "outputs": [],
   "source": [
    "import matplotlib.pyplot as plt\n",
    "import numpy as np\n",
    "\n",
    "import matplotlib as mpl\n",
    "import matplotlib.image as mpimg\n",
    "from sklearn.decomposition import PCA\n",
    "\n",
    "from STARE_manager import STARE_manager"
   ]
  },
  {
   "cell_type": "code",
   "execution_count": 15,
   "metadata": {},
   "outputs": [],
   "source": [
    "###### To select a dataset to analyze, uncomment all code under the dataset's name\n",
    "\n",
    "### STARE Expert 1\n",
    "data_set = \"stare\"\n",
    "image_dir = \"../Data/Dataset_1/Provided_masks/\"\n",
    "file_name = \"im\"\n",
    "data_name = \"DS1_\"\n",
    "results_dir = \"../Results/Dataset_1/\"\n",
    "\n",
    "### STARE Expert 2\n",
    "'''data_set = \"stare\"\n",
    "image_dir = \"../Data/Dataset_1/Provided_masks_VK/\"\n",
    "file_name = \"im\"\n",
    "data_name = \"DS1_\"\n",
    "results_dir = \"../Results/Dataset_1_VK/\"'''\n",
    "\n",
    "#HRF\n",
    "'''data_set = \"HRF\"\n",
    "image_dir = \"../Data/HRF_Dataset_1/Provided_masks/\"\n",
    "retinal_image_folder = \"../Data/HRF_Dataset_1/Provided_retinal_images/*.png\"\n",
    "file_name = \"im\"\n",
    "data_name = \"DS1_\"\n",
    "results_dir = \"../Results/HRF_Dataset_1/\"'''\n",
    "\n",
    "## all coarse\n",
    "'''data_set = \"all\"\n",
    "image_dir = \"../Data/all/Provided_masks/\"\n",
    "file_name = \"im\"\n",
    "data_name = \"DS1_\"\n",
    "results_dir = \"../Results/all/\"'''\n",
    "\n",
    "stare = STARE_manager(image_dir = image_dir,\n",
    "                     file_name = file_name, \n",
    "                     data_name = data_name,\n",
    "                     results_dir=results_dir,\n",
    "                     data_set=data_set)\n",
    "\n",
    "ID, data, diag =  stare.obtain_diagnoses(data_type=\"PI\")"
   ]
  },
  {
   "cell_type": "code",
   "execution_count": 16,
   "metadata": {},
   "outputs": [
    {
     "data": {
      "image/png": "[encoded data removed]",
      "text/plain": [
       "<Figure size 576x432 with 1 Axes>"
      ]
     },
     "metadata": {},
     "output_type": "display_data"
    }
   ],
   "source": [
    "fontsize=24\n",
    "\n",
    "filtration = \"flooding\"\n",
    "\n",
    "X = data[filtration][:,2500:]\n",
    "\n",
    "y = 1*(np.any(diag==0,axis=1))\n",
    "\n",
    "pca = PCA(n_components=2)\n",
    "\n",
    "mean = X.mean(axis=0)\n",
    "X_norm = X - mean\n",
    "\n",
    "X_pca = pca.fit_transform(X_norm) \n",
    "\n",
    "mpl.rc(\"xtick\",labelsize=15)\n",
    "mpl.rc(\"ytick\",labelsize=15)\n",
    "#mpl.rcParams['font.family'] = 'serif'\n",
    "#mpl.rcParams['font.serif'] = ['Times New Roman'] + mpl.rcParams['font.serif']\n",
    "\n",
    "    \n",
    "fig = plt.figure(figsize=(8,6))\n",
    "ax = fig.add_subplot(111)\n",
    "\n",
    "ax.scatter(X_pca[y==0,0],X_pca[y==0,1],c=\"r\",label=\"Diseased\")\n",
    "ax.scatter(X_pca[y==1,0],X_pca[y==1,1],c=\"b\",label=\"Normal\")\n",
    "\n",
    "#for j, txt in enumerate(ID):\n",
    "#    ax.annotate(txt, (X_pca[j,0], X_pca[j,1]))\n",
    "\n",
    "#plt.legend(loc=2,fontsize=fontsize)\n",
    "\n",
    "ax.set_xlabel(\"PCA component 1\",fontsize=fontsize)\n",
    "ax.set_ylabel(\"PCA component 2\",fontsize=fontsize)\n",
    "ax.set_title(\"Flooding (loops) PCA space\",fontsize=fontsize)\n",
    "\n",
    "ax.set_xticks([])\n",
    "ax.set_yticks([])\n",
    "#ax.set_xlim([-2,0])\n",
    "#ax.set_ylim([-2,0])\n",
    "plt.savefig(f\"../Figures/PCA_flooding_{data_set}.pdf\",format=\"pdf\")"
   ]
  }
 ],
 "metadata": {
  "kernelspec": {
   "display_name": "Python 3.9.12 (ipykernel)",
   "language": "python",
   "name": "python3"
  },
  "language_info": {
   "codemirror_mode": {
    "name": "ipython",
    "version": 3
   },
   "file_extension": ".py",
   "mimetype": "text/x-python",
   "name": "python",
   "nbconvert_exporter": "python",
   "pygments_lexer": "ipython3",
   "version": "3.9.12"
  }
 },
 "nbformat": 4,
 "nbformat_minor": 4
}
